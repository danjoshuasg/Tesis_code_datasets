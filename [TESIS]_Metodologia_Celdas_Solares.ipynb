{
  "nbformat": 4,
  "nbformat_minor": 0,
  "metadata": {
    "colab": {
      "name": "[TESIS] Metodologia - Celdas Solares.ipynb",
      "provenance": [],
      "collapsed_sections": [],
      "authorship_tag": "ABX9TyNGFlIhwo5xEU7CZ1kG2dxu",
      "include_colab_link": true
    },
    "kernelspec": {
      "name": "python3",
      "display_name": "Python 3"
    },
    "language_info": {
      "name": "python"
    }
  },
  "cells": [
    {
      "cell_type": "markdown",
      "metadata": {
        "id": "view-in-github",
        "colab_type": "text"
      },
      "source": [
        "<a href=\"https://colab.research.google.com/github/danjoshuasg/Tesis_code_datasets/blob/main/%5BTESIS%5D_Metodologia_Celdas_Solares.ipynb\" target=\"_parent\"><img src=\"https://colab.research.google.com/assets/colab-badge.svg\" alt=\"Open In Colab\"/></a>"
      ]
    },
    {
      "cell_type": "markdown",
      "metadata": {
        "id": "ZzfRTrnJyoYj"
      },
      "source": [
        "### Cargar librerías y herramientas de trabajo"
      ]
    },
    {
      "cell_type": "code",
      "metadata": {
        "colab": {
          "base_uri": "https://localhost:8080/"
        },
        "id": "tKjkbevh06iy",
        "outputId": "a73f6523-e026-4ca8-9315-2984f6b756f2"
      },
      "source": [
        "from google.colab import drive\n",
        "drive.mount('/gdrive')"
      ],
      "execution_count": null,
      "outputs": [
        {
          "output_type": "stream",
          "text": [
            "Mounted at /gdrive\n"
          ],
          "name": "stdout"
        }
      ]
    },
    {
      "cell_type": "code",
      "metadata": {
        "colab": {
          "base_uri": "https://localhost:8080/"
        },
        "id": "2rcaEgF20eRD",
        "outputId": "c82e6a34-d09a-4968-ad29-919183b81873"
      },
      "source": [
        "!pip install -q condacolab\n",
        "import condacolab\n",
        "condacolab.install()"
      ],
      "execution_count": null,
      "outputs": [
        {
          "output_type": "stream",
          "text": [
            "⏬ Downloading https://github.com/jaimergp/miniforge/releases/latest/download/Mambaforge-colab-Linux-x86_64.sh...\n",
            "📦 Installing...\n",
            "📌 Adjusting configuration...\n",
            "🩹 Patching environment...\n",
            "⏲ Done in 0:00:44\n",
            "🔁 Restarting kernel...\n"
          ],
          "name": "stdout"
        }
      ]
    },
    {
      "cell_type": "code",
      "metadata": {
        "id": "YLVJVmY-0mOM"
      },
      "source": [
        "!mamba install -c conda-forge rdkit"
      ],
      "execution_count": null,
      "outputs": []
    },
    {
      "cell_type": "code",
      "metadata": {
        "id": "BEvyZoTD0qcs"
      },
      "source": [
        "import rdkit\n",
        "from rdkit import Chem\n",
        "from rdkit.Chem import DataStructs\n",
        "from rdkit.Chem import AllChem\n",
        "from rdkit.Chem import RDConfig\n",
        "from rdkit import rdBase\n",
        "from rdkit.Chem.Draw import IPythonConsole\n",
        "from rdkit.Chem import Draw"
      ],
      "execution_count": null,
      "outputs": []
    },
    {
      "cell_type": "markdown",
      "metadata": {
        "id": "I4FtAmxvy0V4"
      },
      "source": [
        "# 1. EXTRACCION DE DATOS\n",
        "\n",
        "Los datos pueden ser extraidos de fuentes experimentales como simuladas, en este caso utilizaremos los datos de la investigacion de [Venkatraman 2018](https://jcheminf.biomedcentral.com/articles/10.1186/s13321-018-0272-0). En esta data es posible observar los siguientes datos:\n",
        "\n",
        "1. DOI: Artículo fuente\n",
        "\n",
        "2. Parámetros de rendimiento: $V_{oc}$ ($mV$), $J_{sc}$ ($mA/cm^2$), $FF$ y $PCE$\n",
        "\n",
        "3. Electrolito: Naturaleza del electrolito redox. Basado en yodo o cobalto. Composicion.\n",
        "\n",
        "4. Area activa de la celda ($cm^2$)\n",
        "\n",
        "5. Coadsorbentes: chenodeoxycholic acid (CDCA) y concentración\n",
        "\n",
        "6. Consensibilizantes: Si usara\n",
        "\n",
        "7. Semiconductor: the kind of semiconductor layer (TiO2, ZnO etc.) used and their thickness (in μm) along with any scattering used\n",
        "\n",
        "8. Dye loading: the amount of dye adsorbed on the semiconductor film (in nmol/cm2)\n",
        "\n",
        "9. Exposure time: the sensitizer adsorption time\n",
        "\n",
        "10. Solar simulator conditions such as the light intensity (typically AM 1.5G, 100 mW/cm2) used\n",
        "\n",
        "11. DSSC comments: general information relating to the type of the DSSC (solid state, p-type), the dye bath used and other details such as the surface treatment for the semiconductor or electrodes\n",
        "\n",
        "12. SMILES, InChi: SMILES notation for the chemical structure and the corresponding IUPAC International Chemical Identifier (InChi) key\n",
        "\n",
        "13. The absorption and emission maxima and the solvent used in the experiment\n",
        "\n",
        "14. Dye class: to indicate the type of the donors or specific chemical groups in order to enable a keyword-based search."
      ]
    },
    {
      "cell_type": "code",
      "metadata": {
        "colab": {
          "base_uri": "https://localhost:8080/"
        },
        "id": "1rJwz24QyyKL",
        "outputId": "6046d535-acc5-498e-cbcd-d5fcdd1d355d"
      },
      "source": [
        "!git clone https://github.com/danjoshuasg/Tesis_code_datasets.git"
      ],
      "execution_count": null,
      "outputs": [
        {
          "output_type": "stream",
          "text": [
            "fatal: destination path 'Tesis_code_datasets' already exists and is not an empty directory.\n"
          ],
          "name": "stdout"
        }
      ]
    },
    {
      "cell_type": "code",
      "metadata": {
        "id": "GZHtDttI16uk"
      },
      "source": [
        "import pandas as pd\n",
        "import numpy as np\n",
        "import matplotlib.pyplot as plt\n",
        "import seaborn as sns\n",
        "import missingno as msno"
      ],
      "execution_count": null,
      "outputs": []
    },
    {
      "cell_type": "code",
      "metadata": {
        "id": "Qy0leQv5yyYJ"
      },
      "source": [
        "df_carbazole = pd.read_excel(\"/content/Tesis_code_datasets/data/venkatraman/CARBAZOLE.xlsx\")\n",
        "df_coumarin = pd.read_excel(\"/content/Tesis_code_datasets/data/venkatraman/Coumarin.xlsx\")\n",
        "df_indoline = pd.read_excel(\"/content/Tesis_code_datasets/data/venkatraman/Indoline.xlsx\")\n",
        "df_metalfree = pd.read_excel(\"/content/Tesis_code_datasets/data/venkatraman/MetalFreeDyes.xlsx\")\n",
        "df_porphyrin = pd.read_excel(\"/content/Tesis_code_datasets/data/venkatraman/PORPHYRIN.xlsx\")\n",
        "df_ptzpoz = pd.read_excel(\"/content/Tesis_code_datasets/data/venkatraman/PTZPOZ.xlsx\")\n",
        "df_ruthenium = pd.read_excel(\"/content/Tesis_code_datasets/data/venkatraman/RUTHENIUM.xlsx\")\n",
        "df_squarine = pd.read_excel(\"/content/Tesis_code_datasets/data/venkatraman/Squarine_cyanine.xlsx\")\n",
        "df_tpa = pd.read_excel(\"/content/Tesis_code_datasets/data/venkatraman/TPA.xlsx\")"
      ],
      "execution_count": null,
      "outputs": []
    },
    {
      "cell_type": "code",
      "metadata": {
        "id": "VGenbr423JZl"
      },
      "source": [
        "def minimal_features(df_type):\n",
        "  df = df_type\n",
        "  df = pd.concat([df.SMILES.to_frame(), df.MOLECULE_KEYWORDS.to_frame(), df.PCE.to_frame(),df.JSC.to_frame(),df.VOC.to_frame(),df.FF.to_frame()], axis=1)\n",
        "  df_type = df\n",
        "  return df_type"
      ],
      "execution_count": null,
      "outputs": []
    },
    {
      "cell_type": "code",
      "metadata": {
        "id": "ZQEkznsf3Ju_"
      },
      "source": [
        "df_carbazole = pd.read_excel(\"/content/Tesis_code_datasets/data/venkatraman/CARBAZOLE.xlsx\")\n",
        "df_coumarin = pd.read_excel(\"/content/Tesis_code_datasets/data/venkatraman/Coumarin.xlsx\")\n",
        "df_indoline = pd.read_excel(\"/content/Tesis_code_datasets/data/venkatraman/Indoline.xlsx\")\n",
        "df_metalfree = pd.read_excel(\"/content/Tesis_code_datasets/data/venkatraman/MetalFreeDyes.xlsx\")\n",
        "df_porphyrin = pd.read_excel(\"/content/Tesis_code_datasets/data/venkatraman/PORPHYRIN.xlsx\")\n",
        "df_ptzpoz = pd.read_excel(\"/content/Tesis_code_datasets/data/venkatraman/PTZPOZ.xlsx\")\n",
        "df_ruthenium = pd.read_excel(\"/content/Tesis_code_datasets/data/venkatraman/RUTHENIUM.xlsx\")\n",
        "df_squarine = pd.read_excel(\"/content/Tesis_code_datasets/data/venkatraman/Squarine_cyanine.xlsx\")\n",
        "df_tpa = pd.read_excel(\"/content/Tesis_code_datasets/data/venkatraman/TPA.xlsx\")"
      ],
      "execution_count": null,
      "outputs": []
    },
    {
      "cell_type": "markdown",
      "metadata": {
        "id": "70wZ2kQF1iDa"
      },
      "source": [
        "# Sección nueva"
      ]
    },
    {
      "cell_type": "code",
      "metadata": {
        "id": "aH51-5N6yyub"
      },
      "source": [
        ""
      ],
      "execution_count": null,
      "outputs": []
    },
    {
      "cell_type": "code",
      "metadata": {
        "id": "X3i0d9hSyy2T"
      },
      "source": [
        ""
      ],
      "execution_count": null,
      "outputs": []
    },
    {
      "cell_type": "code",
      "metadata": {
        "id": "AelurTS-yy8s"
      },
      "source": [
        ""
      ],
      "execution_count": null,
      "outputs": []
    }
  ]
}